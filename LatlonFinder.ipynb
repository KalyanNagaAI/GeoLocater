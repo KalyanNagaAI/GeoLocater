{
 "cells": [
  {
   "cell_type": "code",
   "execution_count": null,
   "metadata": {
    "executionInfo": {
     "elapsed": 224,
     "status": "ok",
     "timestamp": 1650629184921,
     "user": {
      "displayName": "Naga Kalyan",
      "userId": "16225541700308991973"
     },
     "user_tz": 240
    },
    "id": "R8ACMySiKJGf"
   },
   "outputs": [],
   "source": [
    "pip install geopy"
   ]
  },
  {
   "cell_type": "code",
   "execution_count": null,
   "metadata": {
    "id": "1kBwNvH8K3ad"
   },
   "outputs": [],
   "source": [
    "pip install folium"
   ]
  },
  {
   "cell_type": "code",
   "execution_count": null,
   "metadata": {
    "id": "2YcI8hIvK3ub"
   },
   "outputs": [],
   "source": []
  },
  {
   "cell_type": "code",
   "execution_count": null,
   "metadata": {
    "id": "PIvb-kD2K3w6"
   },
   "outputs": [],
   "source": [
    "# Libraries\n",
    "import numpy as np\n",
    "import pandas as pd\n",
    "import geopandas as gpd\n",
    "import geopy\n",
    "from geopy.geocoders import Nominatim\n",
    "from geopy.extra.rate_limiter import RateLimiter\n",
    "import matplotlib.pyplot as plt\n",
    "import folium\n",
    "from folium.plugins import FastMarkerCluster"
   ]
  },
  {
   "cell_type": "code",
   "execution_count": null,
   "metadata": {
    "id": "m1h7JZpJK3zt"
   },
   "outputs": [],
   "source": [
    "# ReadingData\n",
    "df = pd.read_csv(\"12011_9_LS.csv\")"
   ]
  },
  {
   "cell_type": "code",
   "execution_count": null,
   "metadata": {
    "id": "1UZJvD1KK32R"
   },
   "outputs": [],
   "source": [
    "df.head(5)"
   ]
  },
  {
   "cell_type": "code",
   "execution_count": null,
   "metadata": {
    "id": "45jGEZBQK348"
   },
   "outputs": [],
   "source": [
    "df.columns"
   ]
  },
  {
   "cell_type": "code",
   "execution_count": null,
   "metadata": {
    "id": "KKObQmGaK37i"
   },
   "outputs": [],
   "source": [
    "#create variable column inside file called `myAddress and assign it to seleted address columns\n",
    "#df['Add'] = df['MD_Address'] + \" \" + df['MD_City'] + \" \" +  df['MD_State'] + \" \" + df['MD_Zip']"
   ]
  },
  {
   "cell_type": "code",
   "execution_count": null,
   "metadata": {
    "id": "msb9GKo5K4AH"
   },
   "outputs": [],
   "source": [
    "#create 2 new columns to store lat/long - initalise to null\n",
    "df['location_lat'] = \"\"\n",
    "df['location_long'] = \"\"\n",
    "\n",
    "#print first rows to sample\n",
    "df.head()"
   ]
  },
  {
   "cell_type": "code",
   "execution_count": null,
   "metadata": {
    "id": "Gd4V9JDDK4C3"
   },
   "outputs": [],
   "source": [
    "df.columns"
   ]
  },
  {
   "cell_type": "code",
   "execution_count": null,
   "metadata": {
    "id": "hU8EGXLoK4FZ"
   },
   "outputs": [],
   "source": [
    "'''\n",
    "**Get Lat/Long Data with GeoPy**\n",
    "---------------------\n",
    "\n",
    "the code below calls a geopy API using a concatenated column of address values. We use this column as a query key \n",
    "to pull back cooresponding lat/long coordinates.\n",
    "'''\n",
    "\n",
    "geolocator = Nominatim(user_agent=\"myApp\")\n",
    "\n",
    "for i in df.index:\n",
    "    try:\n",
    "        #tries fetch address from geopy\n",
    "        location = geolocator.geocode(df['MD_Address'][i])\n",
    "        \n",
    "        #append lat/long to column using dataframe location\n",
    "        df.loc[i,'location_lat'] = location.latitude\n",
    "        df.loc[i,'location_long'] = location.longitude\n",
    "    except:\n",
    "        #catches exception for the case where no value is returned\n",
    "        #appends null value to column\n",
    "        df.loc[i,'location_lat'] = \"\"\n",
    "        df.loc[i,'location_long'] = \"\"\n",
    "        df.loc[i,'location_address'] = \"\"\n",
    "\n",
    "#print first rows as sample\n",
    "df.head()"
   ]
  },
  {
   "cell_type": "code",
   "execution_count": null,
   "metadata": {
    "id": "Rvz7poBiK4H0"
   },
   "outputs": [],
   "source": [
    "df.columns"
   ]
  },
  {
   "cell_type": "code",
   "execution_count": null,
   "metadata": {
    "id": "zVtURFuwK4KT"
   },
   "outputs": [],
   "source": [
    "#write the contents thus far to new csv file\n",
    "Dir = r\"12011_9\"\n",
    "\n",
    "df.to_csv(Dir + 'LS_final.csv',index = False)"
   ]
  },
  {
   "cell_type": "code",
   "execution_count": null,
   "metadata": {
    "id": "7qxgTKwMK4Mm"
   },
   "outputs": [],
   "source": [
    "# Read .csv file using pandas\n",
    "data = pd.read_csv(Dir + 'LS_final.csv')\n",
    "\n",
    "#Creating Geopandas Dataframe \n",
    "data_gdf = gpd.GeoDataFrame(data, geometry= gpd.points_from_xy(data['location_long'],data['location_lat']))\n",
    "\n",
    "#Set the crs\n",
    "data_gdf.set_crs(epsg=4326, inplace=True)   \n",
    "\n",
    "#Save the file as an ESRI Shapefile\n",
    "data_gdf.to_file(filename = Dir + 'LS_uGm.shp',driver = 'ESRI Shapefile')"
   ]
  },
  {
   "cell_type": "code",
   "execution_count": null,
   "metadata": {
    "id": "VLHyOxzNK4QR"
   },
   "outputs": [],
   "source": [
    "#Another Method\n",
    "from geopy.extra.rate_limiter import RateLimiter\n",
    "geocode = RateLimiter(locator.geocode, min_delay_seconds=1)\n",
    "df['location'] = df['MD_Address'].apply(geocode)\n",
    "df['point'] = df['location'].apply(lambda loc: tuple(loc.point) if loc else None)"
   ]
  }
 ],
 "metadata": {
  "colab": {
   "authorship_tag": "ABX9TyOoCi6/Gwur6Z5WHloOhxv/",
   "collapsed_sections": [],
   "name": "LatlonFinder.ipynb",
   "provenance": []
  },
  "kernelspec": {
   "display_name": "Python 3",
   "language": "python",
   "name": "python3"
  },
  "language_info": {
   "codemirror_mode": {
    "name": "ipython",
    "version": 3
   },
   "file_extension": ".py",
   "mimetype": "text/x-python",
   "name": "python",
   "nbconvert_exporter": "python",
   "pygments_lexer": "ipython3",
   "version": "3.8.8"
  }
 },
 "nbformat": 4,
 "nbformat_minor": 1
}
